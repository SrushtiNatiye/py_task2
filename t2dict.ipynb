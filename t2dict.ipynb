{
 "cells": [
  {
   "cell_type": "code",
   "execution_count": null,
   "id": "1d31dff8",
   "metadata": {},
   "outputs": [
    {
     "name": "stdout",
     "output_type": "stream",
     "text": [
      "{'Rolex': 'Submariner', 'Omega': 'Speedmaster', 'Casio': 'G-Shock', 'Seiko': 'Presage', 'Tag Heuer': 'Carrera', 'Tissot': 'Le Locle', 'Citizen': 'Eco-Drive', 'Fossil': 'Grant', 'Timex': 'Expedition', 'Swatch': 'Big Bold', 'Hublot': 'Big Bang', 'Breitling': 'Navitimer', 'Longines': 'HydroConquest', 'Panerai': 'Luminor', 'IWC': 'Portugieser', 'Cartier': 'Tank', 'Audemars Piguet': 'Royal Oak', 'Patek Philippe': 'Nautilus', 'Richard Mille': 'RM 011', 'Bulgari': 'Octo Finissimo'}\n",
      "<class 'dict'>\n",
      "20\n",
      "Model of Rolex is :  Submariner\n",
      "Omega's model is: Speedmaster\n"
     ]
    }
   ],
   "source": [
    "watches = {\n",
    "    \"Rolex\": \"Submariner\",\n",
    "    \"Omega\": \"Speedmaster\",\n",
    "    \"Casio\": \"G-Shock\",\n",
    "    \"Seiko\": \"Presage\",\n",
    "    \"Tag Heuer\": \"Carrera\",\n",
    "    \"Tissot\": \"Le Locle\",\n",
    "    \"Citizen\": \"Eco-Drive\",\n",
    "    \"Fossil\": \"Grant\",\n",
    "    \"Timex\": \"Expedition\",\n",
    "    \"Swatch\": \"Big Bold\",\n",
    "    \"Hublot\": \"Big Bang\",\n",
    "    \"Breitling\": \"Navitimer\",\n",
    "    \"Longines\": \"HydroConquest\",\n",
    "    \"Panerai\": \"Luminor\",\n",
    "    \"IWC\": \"Portugieser\",\n",
    "    \"Cartier\": \"Tank\",\n",
    "    \"Audemars Piguet\": \"Royal Oak\",\n",
    "    \"Patek Philippe\": \"Nautilus\",\n",
    "    \"Richard Mille\": \"RM 011\",\n",
    "    \"Bulgari\": \"Octo Finissimo\"\n",
    "}\n",
    "\n",
    "\n",
    "\n",
    "\n",
    "print(watches)\n",
    "print(type(watches))\n",
    "print(len(watches))\n",
    "print(\"Model of Rolex is : \",watches[\"Rolex\"])\n",
    "print(\"Omega's model is:\", watches[\"Omega\"])\n",
    "\n"
   ]
  },
  {
   "cell_type": "code",
   "execution_count": null,
   "id": "8c026d61",
   "metadata": {},
   "outputs": [
    {
     "name": "stdout",
     "output_type": "stream",
     "text": [
      "{'Aarav': 'A', 'Riya': 'B+', 'Kabir': 'A-', 'Ishita': 'B', 'Neel': 'C+', 'Tanya': 'A', 'Dev': 'B-', 'Meera': 'A+', 'Yash': 'C', 'Anaya': 'B+', 'Rohan': 'A', 'Sneha': 'B', 'Kunal': 'C-', 'Pooja': 'A-', 'Arjun': 'B+', 'Simran': 'A', 'Vikram': 'B', 'Nisha': 'C+', 'Harsh': 'B-', 'Diya': 'A+'}\n",
      "All student grades: {'Aarav': 'A', 'Riya': 'B+', 'Kabir': 'A-', 'Ishita': 'B', 'Neel': 'C+', 'Tanya': 'A', 'Dev': 'B-', 'Meera': 'A+', 'Yash': 'C', 'Anaya': 'B+', 'Rohan': 'A', 'Sneha': 'B', 'Kunal': 'C-', 'Pooja': 'A-', 'Arjun': 'B+', 'Simran': 'A', 'Vikram': 'B', 'Nisha': 'C+', 'Harsh': 'B-', 'Diya': 'A+'}\n",
      "Grade of Riya: B+\n",
      "Grade of Arjun: B+\n"
     ]
    }
   ],
   "source": [
    "student_grades = {\n",
    "    \"Aarav\": \"A\",\n",
    "    \"Riya\": \"B+\",\n",
    "    \"Kabir\": \"A-\",\n",
    "    \"Ishita\": \"B\",\n",
    "    \"Neel\": \"C+\",\n",
    "    \"Tanya\": \"A\",\n",
    "    \"Dev\": \"B-\",\n",
    "    \"Meera\": \"A+\",\n",
    "    \"Yash\": \"C\",\n",
    "    \"Anaya\": \"B+\",\n",
    "    \"Rohan\": \"A\",\n",
    "    \"Sneha\": \"B\",\n",
    "    \"Kunal\": \"C-\",\n",
    "    \"Pooja\": \"A-\",\n",
    "    \"Arjun\": \"B+\",\n",
    "    \"Simran\": \"A\",\n",
    "    \"Vikram\": \"B\",\n",
    "    \"Nisha\": \"C+\",\n",
    "    \"Harsh\": \"B-\",\n",
    "    \"Diya\": \"A+\"\n",
    "}\n",
    "\n",
    "\n",
    "\n",
    "\n",
    "print(student_grades)\n",
    "print(\"All student grades:\", student_grades)\n",
    "print(\"Grade of Riya:\", student_grades[\"Riya\"])\n",
    "print(\"Grade of Arjun:\", student_grades[\"Arjun\"])\n"
   ]
  },
  {
   "cell_type": "code",
   "execution_count": null,
   "id": "753a78f6",
   "metadata": {},
   "outputs": [
    {
     "name": "stdout",
     "output_type": "stream",
     "text": [
      "{'India': 'New Delhi', 'USA': 'Washington, D.C.', 'France': 'Paris', 'Germany': 'Berlin', 'Japan': 'Tokyo', 'China': 'Beijing', 'Brazil': 'Brasília', 'Russia': 'Moscow', 'Australia': 'Canberra', 'Canada': 'Ottawa', 'Italy': 'Rome', 'Spain': 'Madrid', 'South Korea': 'Seoul', 'Mexico': 'Mexico City', 'UK': 'London', 'Egypt': 'Cairo', 'Argentina': 'Buenos Aires', 'Turkey': 'Ankara', 'Thailand': 'Bangkok', 'South Africa': 'Pretoria'}\n",
      "Capital of India is: New Delhi\n",
      "Capital of Japan is: Tokyo\n",
      "Countries: ['India', 'USA', 'France', 'Germany', 'Japan', 'China', 'Brazil', 'Russia', 'Australia', 'Canada', 'Italy', 'Spain', 'South Korea', 'Mexico', 'UK', 'Egypt', 'Argentina', 'Turkey', 'Thailand', 'South Africa']\n",
      "Capitals: ['New Delhi', 'Washington, D.C.', 'Paris', 'Berlin', 'Tokyo', 'Beijing', 'Brasília', 'Moscow', 'Canberra', 'Ottawa', 'Rome', 'Madrid', 'Seoul', 'Mexico City', 'London', 'Cairo', 'Buenos Aires', 'Ankara', 'Bangkok', 'Pretoria']\n"
     ]
    }
   ],
   "source": [
    "country_capitals = {\n",
    "    \"India\": \"New Delhi\",\n",
    "    \"USA\": \"Washington, D.C.\",\n",
    "    \"France\": \"Paris\",\n",
    "    \"Germany\": \"Berlin\",\n",
    "    \"Japan\": \"Tokyo\",\n",
    "    \"China\": \"Beijing\",\n",
    "    \"Brazil\": \"Brasília\",\n",
    "    \"Russia\": \"Moscow\",\n",
    "    \"Australia\": \"Canberra\",\n",
    "    \"Canada\": \"Ottawa\",\n",
    "    \"Italy\": \"Rome\",\n",
    "    \"Spain\": \"Madrid\",\n",
    "    \"South Korea\": \"Seoul\",\n",
    "    \"Mexico\": \"Mexico City\",\n",
    "    \"UK\": \"London\",\n",
    "    \"Egypt\": \"Cairo\",\n",
    "    \"Argentina\": \"Buenos Aires\",\n",
    "    \"Turkey\": \"Ankara\",\n",
    "    \"Thailand\": \"Bangkok\",\n",
    "    \"South Africa\": \"Pretoria\"\n",
    "}\n",
    "\n",
    "\n",
    "\n",
    "\n",
    "print(country_capitals)\n",
    "print(\"Capital of India is:\", country_capitals[\"India\"])\n",
    "print(\"Capital of Japan is:\", country_capitals[\"Japan\"])\n",
    "print(\"Countries:\", list(country_capitals.keys()))\n",
    "print(\"Capitals:\", list(country_capitals.values()))\n",
    "\n"
   ]
  },
  {
   "cell_type": "code",
   "execution_count": 15,
   "id": "21658cf5",
   "metadata": {},
   "outputs": [
    {
     "name": "stdout",
     "output_type": "stream",
     "text": [
      "Employee Salaries: {'E001': 50000, 'E002': 52000, 'E003': 48000, 'E004': 60000, 'E005': 55000, 'E006': 47000, 'E007': 53000, 'E008': 51000, 'E009': 49000, 'E010': 58000, 'E011': 62000, 'E012': 54000, 'E013': 56000, 'E014': 57000, 'E015': 59000, 'E016': 61000, 'E017': 63000, 'E018': 64000, 'E019': 65000, 'E020': 66000}\n",
      "Salary of E005: 55000\n",
      "Salary of E015: 59000\n",
      "All Employee IDs: ['E001', 'E002', 'E003', 'E004', 'E005', 'E006', 'E007', 'E008', 'E009', 'E010', 'E011', 'E012', 'E013', 'E014', 'E015', 'E016', 'E017', 'E018', 'E019', 'E020']\n",
      "All Salaries: [50000, 52000, 48000, 60000, 55000, 47000, 53000, 51000, 49000, 58000, 62000, 54000, 56000, 57000, 59000, 61000, 63000, 64000, 65000, 66000]\n",
      "Total Employees: 20\n"
     ]
    }
   ],
   "source": [
    "employee_salaries = {\n",
    "    \"E001\": 50000, \"E002\": 52000, \"E003\": 48000, \"E004\": 60000, \"E005\": 55000,\n",
    "    \"E006\": 47000, \"E007\": 53000, \"E008\": 51000, \"E009\": 49000, \"E010\": 58000,\n",
    "    \"E011\": 62000, \"E012\": 54000, \"E013\": 56000, \"E014\": 57000, \"E015\": 59000,\n",
    "    \"E016\": 61000, \"E017\": 63000, \"E018\": 64000, \"E019\": 65000, \"E020\": 66000\n",
    "}\n",
    "\n",
    "\n",
    "\n",
    "  #print\n",
    "print(\"Employee Salaries:\", employee_salaries)\n",
    "print(\"Salary of E005:\", employee_salaries[\"E005\"])\n",
    "print(\"Salary of E015:\", employee_salaries[\"E015\"])\n",
    "print(\"All Employee IDs:\", list(employee_salaries.keys()))\n",
    "print(\"All Salaries:\", list(employee_salaries.values()))\n",
    "print(\"Total Employees:\", len(employee_salaries))\n"
   ]
  },
  {
   "cell_type": "code",
   "execution_count": 16,
   "id": "c5187d2b",
   "metadata": {},
   "outputs": [
    {
     "name": "stdout",
     "output_type": "stream",
     "text": [
      "Books and Authors: {'1984': 'George Orwell', 'To Kill a Mockingbird': 'Harper Lee', 'The Great Gatsby': 'F. Scott Fitzgerald', 'Pride and Prejudice': 'Jane Austen', 'Moby-Dick': 'Herman Melville', 'War and Peace': 'Leo Tolstoy', 'Hamlet': 'William Shakespeare', 'The Catcher in the Rye': 'J.D. Salinger', 'The Hobbit': 'J.R.R. Tolkien', 'Ulysses': 'James Joyce', 'Jane Eyre': 'Charlotte Brontë', 'Crime and Punishment': 'Fyodor Dostoevsky', 'Brave New World': 'Aldous Huxley', 'The Odyssey': 'Homer', 'The Divine Comedy': 'Dante Alighieri', 'Frankenstein': 'Mary Shelley', 'The Brothers Karamazov': 'Dostoevsky', 'Wuthering Heights': 'Emily Brontë', 'Don Quixote': 'Miguel de Cervantes', 'The Iliad': 'Homer'}\n",
      "Author of '1984': George Orwell\n",
      "Total number of books: 20\n",
      "Hamlet is in the collection\n",
      "Author of 'To Kill a Mockingbird': Harper Lee\n",
      "Author of 'The Great Gatsby': F. Scott Fitzgerald\n"
     ]
    }
   ],
   "source": [
    "books = {\n",
    "    \"1984\": \"George Orwell\", \"To Kill a Mockingbird\": \"Harper Lee\", \"The Great Gatsby\": \"F. Scott Fitzgerald\",\n",
    "    \"Pride and Prejudice\": \"Jane Austen\", \"Moby-Dick\": \"Herman Melville\", \"War and Peace\": \"Leo Tolstoy\",\n",
    "    \"Hamlet\": \"William Shakespeare\", \"The Catcher in the Rye\": \"J.D. Salinger\", \"The Hobbit\": \"J.R.R. Tolkien\",\n",
    "    \"Ulysses\": \"James Joyce\", \"Jane Eyre\": \"Charlotte Brontë\", \"Crime and Punishment\": \"Fyodor Dostoevsky\",\n",
    "    \"Brave New World\": \"Aldous Huxley\", \"The Odyssey\": \"Homer\", \"The Divine Comedy\": \"Dante Alighieri\",\n",
    "    \"Frankenstein\": \"Mary Shelley\", \"The Brothers Karamazov\": \"Dostoevsky\", \"Wuthering Heights\": \"Emily Brontë\",\n",
    "    \"Don Quixote\": \"Miguel de Cervantes\", \"The Iliad\": \"Homer\"\n",
    "}\n",
    "\n",
    "\n",
    "\n",
    "print(\"Books and Authors:\", books)\n",
    "print(\"Author of '1984':\", books[\"1984\"])\n",
    "print(\"Total number of books:\", len(books))\n",
    "\n",
    "if \"Hamlet\" in books:\n",
    "    print(\"Hamlet is in the collection\")\n",
    "    \n",
    "print(\"Author of 'To Kill a Mockingbird':\", books[\"To Kill a Mockingbird\"])\n",
    "print(\"Author of 'The Great Gatsby':\", books[\"The Great Gatsby\"])\n",
    "\n"
   ]
  },
  {
   "cell_type": "code",
   "execution_count": null,
   "id": "62749032",
   "metadata": {},
   "outputs": [
    {
     "name": "stdout",
     "output_type": "stream",
     "text": [
      "Movie Ratings: {'Inception': 8.8, 'Titanic': 7.8, 'The Dark Knight': 9.0, 'Interstellar': 8.6, 'Parasite': 8.6, 'Avengers: Endgame': 8.4, 'Joker': 8.5, 'Forrest Gump': 8.8, 'Gladiator': 8.5, 'The Matrix': 8.7, 'The Godfather': 9.2, 'Pulp Fiction': 8.9, 'Fight Club': 8.8, 'Shawshank Redemption': 9.3, 'The Lion King': 8.5, 'Toy Story': 8.3, 'Up': 8.2, 'Finding Nemo': 8.1, 'Coco': 8.4, 'WALL-E': 8.4}\n",
      "Rating of 'Inception': 8.8\n",
      "Movies: ['Inception', 'Titanic', 'The Dark Knight', 'Interstellar', 'Parasite', 'Avengers: Endgame', 'Joker', 'Forrest Gump', 'Gladiator', 'The Matrix', 'The Godfather', 'Pulp Fiction', 'Fight Club', 'Shawshank Redemption', 'The Lion King', 'Toy Story', 'Up', 'Finding Nemo', 'Coco', 'WALL-E']\n",
      "Ratings: [8.8, 7.8, 9.0, 8.6, 8.6, 8.4, 8.5, 8.8, 8.5, 8.7, 9.2, 8.9, 8.8, 9.3, 8.5, 8.3, 8.2, 8.1, 8.4, 8.4]\n",
      "Titanic is rated: 7.8\n"
     ]
    }
   ],
   "source": [
    "movie_ratings = {\n",
    "    \"Inception\": 8.8, \"Titanic\": 7.8, \"The Dark Knight\": 9.0, \"Interstellar\": 8.6, \"Parasite\": 8.6,\n",
    "    \"Avengers: Endgame\": 8.4, \"Joker\": 8.5, \"Forrest Gump\": 8.8, \"Gladiator\": 8.5, \"The Matrix\": 8.7,\n",
    "    \"The Godfather\": 9.2, \"Pulp Fiction\": 8.9, \"Fight Club\": 8.8, \"Shawshank Redemption\": 9.3, \"The Lion King\": 8.5,\n",
    "    \"Toy Story\": 8.3, \"Up\": 8.2, \"Finding Nemo\": 8.1, \"Coco\": 8.4, \"WALL-E\": 8.4\n",
    "}\n",
    "\n",
    "\n",
    "\n",
    "\n",
    "\n",
    "print(\"Movie Ratings:\", movie_ratings)\n",
    "print(\"Rating of 'Inception':\", movie_ratings[\"Inception\"])\n",
    "print(\"Movies:\", list(movie_ratings.keys()))\n",
    "print(\"Ratings:\", list(movie_ratings.values()))\n",
    "if \"Titanic\" in movie_ratings:\n",
    "    print(\"Titanic is rated:\", movie_ratings[\"Titanic\"])\n"
   ]
  },
  {
   "cell_type": "code",
   "execution_count": 18,
   "id": "1720e0e6",
   "metadata": {},
   "outputs": [
    {
     "name": "stdout",
     "output_type": "stream",
     "text": [
      "Daily Temperatures: {'Day 1': 32, 'Day 2': 33, 'Day 3': 31, 'Day 4': 30, 'Day 5': 29, 'Day 6': 28, 'Day 7': 27, 'Day 8': 26, 'Day 9': 25, 'Day 10': 24, 'Day 11': 23, 'Day 12': 22, 'Day 13': 21, 'Day 14': 20, 'Day 15': 19, 'Day 16': 18, 'Day 17': 17, 'Day 18': 16, 'Day 19': 15, 'Day 20': 14}\n",
      "Temperature on Day 1: 32\n",
      "Temperature on Day 10: 24\n",
      "All Days: ['Day 1', 'Day 2', 'Day 3', 'Day 4', 'Day 5', 'Day 6', 'Day 7', 'Day 8', 'Day 9', 'Day 10', 'Day 11', 'Day 12', 'Day 13', 'Day 14', 'Day 15', 'Day 16', 'Day 17', 'Day 18', 'Day 19', 'Day 20']\n",
      "All Temperatures: [32, 33, 31, 30, 29, 28, 27, 26, 25, 24, 23, 22, 21, 20, 19, 18, 17, 16, 15, 14]\n",
      "Temperature on Day 15: 19\n"
     ]
    }
   ],
   "source": [
    "daily_temps = {\n",
    "    \"Day 1\": 32, \"Day 2\": 33, \"Day 3\": 31, \"Day 4\": 30, \"Day 5\": 29,\n",
    "    \"Day 6\": 28, \"Day 7\": 27, \"Day 8\": 26, \"Day 9\": 25, \"Day 10\": 24,\n",
    "    \"Day 11\": 23, \"Day 12\": 22, \"Day 13\": 21, \"Day 14\": 20, \"Day 15\": 19,\n",
    "    \"Day 16\": 18, \"Day 17\": 17, \"Day 18\": 16, \"Day 19\": 15, \"Day 20\": 14\n",
    "}\n",
    "\n",
    "\n",
    "\n",
    "\n",
    "\n",
    "print(\"Daily Temperatures:\", daily_temps)\n",
    "print(\"Temperature on Day 1:\", daily_temps[\"Day 1\"])\n",
    "print(\"Temperature on Day 10:\", daily_temps[\"Day 10\"])\n",
    "print(\"All Days:\", list(daily_temps.keys()))\n",
    "print(\"All Temperatures:\", list(daily_temps.values()))\n",
    "print(\"Temperature on Day 15:\", daily_temps[\"Day 15\"])"
   ]
  },
  {
   "cell_type": "code",
   "execution_count": 22,
   "id": "cfc40e18",
   "metadata": {},
   "outputs": [
    {
     "name": "stdout",
     "output_type": "stream",
     "text": [
      "Product Prices: {'Laptop': 75000, 'Smartphone': 30000, 'Tablet': 20000, 'Monitor': 15000, 'Keyboard': 1200, 'Mouse': 800, 'Printer': 6000, 'Speaker': 2500, 'Router': 1800, 'Webcam': 2200, 'Smartwatch': 10000, 'Headphones': 3500, 'Charger': 900, 'Power Bank': 1500, 'SSD': 4500, 'Hard Drive': 5000, 'Graphics Card': 25000, 'RAM': 4000, 'Motherboard': 12000, 'Processor': 28000}\n",
      "Total number of products: 20\n",
      "Price of Laptop: 75000\n",
      "Price of Smartphone: 30000\n",
      "SSD is available at ₹ 4500\n"
     ]
    }
   ],
   "source": [
    "product_prices = {\n",
    "    \"Laptop\": 75000, \"Smartphone\": 30000, \"Tablet\": 20000, \"Monitor\": 15000, \"Keyboard\": 1200,\n",
    "    \"Mouse\": 800, \"Printer\": 6000, \"Speaker\": 2500, \"Router\": 1800, \"Webcam\": 2200,\n",
    "    \"Smartwatch\": 10000, \"Headphones\": 3500, \"Charger\": 900, \"Power Bank\": 1500, \"SSD\": 4500,\n",
    "    \"Hard Drive\": 5000, \"Graphics Card\": 25000, \"RAM\": 4000, \"Motherboard\": 12000, \"Processor\": 28000\n",
    "}\n",
    "\n",
    "\n",
    "\n",
    "\n",
    "print(\"Product Prices:\", product_prices)\n",
    "print(\"Total number of products:\", len(product_prices))\n",
    "print(\"Price of Laptop:\", product_prices[\"Laptop\"])\n",
    "print(\"Price of Smartphone:\", product_prices[\"Smartphone\"])\n",
    "if \"SSD\" in product_prices:\n",
    "    print(\"SSD is available at ₹\", product_prices[\"SSD\"])\n"
   ]
  },
  {
   "cell_type": "code",
   "execution_count": null,
   "id": "d4a8a07d",
   "metadata": {},
   "outputs": [
    {
     "name": "stdout",
     "output_type": "stream",
     "text": [
      "Hello, world!\n",
      "this is int : 42\n",
      "it's float type : 18.6\n",
      "boolean = True\n",
      "a is greater than 5\n",
      "a < b and b > 0: True\n",
      "None\n",
      "Python is fun!\n",
      "Name: Aarav\n",
      "Sum: 30\n",
      "Product: 30\n",
      "Division: 25.0\n",
      "Sum: 150\n",
      "Max: 50\n",
      "Min: 10\n",
      "Average: 30.0\n",
      "Count: 5\n",
      "Uppercase: HELLO THERE\n",
      "Lowercase: hello there\n",
      "Split: ['Hello', 'there']\n",
      "Replace: Hello there\n",
      "Length: 11\n",
      "Square root of 16: 4.0\n",
      "Power: 8.0\n",
      "Ceil: 5\n",
      "Floor: 4\n",
      "Pi: 3.141592653589793\n"
     ]
    }
   ],
   "source": [
    "#Print statement examples\n",
    "\n",
    "print(\"Hello, world!\")\n",
    "print(\"this is int :\",42)\n",
    "print(\"it's float type :\",18.6)\n",
    "print(\"boolean =\",True)\n",
    "\n",
    "a = 10\n",
    "if a > 5:\n",
    "    print(\"a is greater than 5\")\n",
    "\n",
    "    a, b = 5, 10\n",
    "print(\"a < b and b > 0:\", a < b and b > 0)\n",
    "    \n",
    "print(None)\n",
    "print(\"Python is fun!\")\n",
    "print(\"Name:\", \"Aarav\")\n",
    "print(\"Sum:\", 10 + 20)\n",
    "print(\"Product:\", 5 * 6)\n",
    "print(\"Division:\", 100 / 4)\n",
    "\n",
    "\n",
    "numbers = [10, 20, 30, 40, 50]\n",
    "\n",
    "print(\"Sum:\", sum(numbers))\n",
    "print(\"Max:\", max(numbers))\n",
    "print(\"Min:\", min(numbers))\n",
    "print(\"Average:\", sum(numbers)/len(numbers))\n",
    "print(\"Count:\", len(numbers))\n",
    "\n",
    "\n",
    "text = \"Hello there\"\n",
    "\n",
    "print(\"Uppercase:\", text.upper())\n",
    "print(\"Lowercase:\", text.lower())\n",
    "print(\"Split:\", text.split())\n",
    "print(\"Replace:\", text.replace(\"Python\", \"Java\"))\n",
    "print(\"Length:\", len(text))\n",
    "\n",
    "\n",
    "import math\n",
    "print(\"Square root of 16:\", math.sqrt(16))\n",
    "print(\"Power:\", math.pow(2, 3))\n",
    "print(\"Ceil:\", math.ceil(4.2))\n",
    "print(\"Floor:\", math.floor(4.8))\n",
    "print(\"Pi:\", math.pi)\n",
    "\n"
   ]
  }
 ],
 "metadata": {
  "kernelspec": {
   "display_name": "Python 3",
   "language": "python",
   "name": "python3"
  },
  "language_info": {
   "codemirror_mode": {
    "name": "ipython",
    "version": 3
   },
   "file_extension": ".py",
   "mimetype": "text/x-python",
   "name": "python",
   "nbconvert_exporter": "python",
   "pygments_lexer": "ipython3",
   "version": "3.13.7"
  }
 },
 "nbformat": 4,
 "nbformat_minor": 5
}
