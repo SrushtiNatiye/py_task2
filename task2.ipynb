{
 "cells": [
  {
   "cell_type": "code",
   "execution_count": null,
   "id": "280d1d12",
   "metadata": {},
   "outputs": [
    {
     "name": "stdout",
     "output_type": "stream",
     "text": [
      "first_list = [10, 20, 30, 40, 50, 60, 70, 80, 90, 100, 110, 120, 130, 140, 150, 160, 170, 180, 190, 200, 210, 220, 230, 240, 250]\n",
      "len(first_list) = 25\n",
      "first_list[0] = 10\n",
      "first_list[9] = 100\n",
      "first_list[-1] = 250\n",
      "Sum of all elements in first_list = 3250\n",
      "Sum > = True\n"
     ]
    }
   ],
   "source": [
    "first_list = [\n",
    "    10, 20, 30, 40, 50, 60, 70, 80, 90, 100,\n",
    "    110, 120, 130, 140, 150, 160, 170, 180, 190, 200,\n",
    "    210, 220, 230, 240, 250\n",
    "]\n",
    "\n",
    "\n",
    "print('first_list =',first_list)\n",
    "print('len(first_list) =',len(first_list))\n",
    "print('first_list[9] =',first_list[9])\n",
    "print('first_list[-1] =',first_list[-1])\n",
    "print('Sum of all elements in first_list =',sum(first_list))\n",
    "print('Sum > =',sum (first_list)> 100)\n"
   ]
  },
  {
   "cell_type": "code",
   "execution_count": 14,
   "id": "2f26c8bd",
   "metadata": {},
   "outputs": [
    {
     "name": "stdout",
     "output_type": "stream",
     "text": [
      "prob_list = ['yes', 'no', 'maybe', 'always', 'never', 'sometimes', 'often', 'rarely', 'frequently', 'occasionally', 'daily', 'weekly', 'monthly', 'yearly', 'hourly', 'minutely', 'secondly', 'forever', 'soon', 'later', 'now', 'then', 'before', 'after', 'eventually']\n",
      "len(prob_list) = 25\n",
      "prob_list[12] = monthly\n",
      "prob_list[-1] = eventually\n",
      "Is \"always\" in prob_list = True\n"
     ]
    }
   ],
   "source": [
    "prob_list = [\"yes\", \"no\", \"maybe\", \"always\", \"never\", \"sometimes\", \"often\", \"rarely\", \"frequently\", \n",
    "             \"occasionally\", \"daily\", \"weekly\", \"monthly\", \"yearly\", \"hourly\", \"minutely\", \"secondly\",\n",
    "             \"forever\", \"soon\", \"later\", \"now\", \"then\", \"before\", \"after\", \"eventually\"]\n",
    "\n",
    "\n",
    "\n",
    "print('prob_list =',prob_list)\n",
    "print('len(prob_list) =',len(prob_list))\n",
    "print('prob_list[12] =',prob_list[12])\n",
    "print('prob_list[-1] =',prob_list[-1])\n",
    "print('Is \"always\" in prob_list =',\"always\" in prob_list)"
   ]
  },
  {
   "cell_type": "code",
   "execution_count": 16,
   "id": "e02c005e",
   "metadata": {},
   "outputs": [
    {
     "name": "stdout",
     "output_type": "stream",
     "text": [
      "fruits_list = ['apple', 'banana', 'cherry', 'date', 'fig', 'grape', 'kiwi', 'lemon', 'mango', 'nectarine', 'orange', 'papaya', 'quince', 'raspberry', 'strawberry', 'tangerine', 'ugli', 'vanilla', 'watermelon', 'xigua', 'yam', 'zucchini', 'apricot', 'blueberry', 'coconut']\n",
      "len(fruits_list) = 25\n",
      "fruits_list[9] = nectarine\n",
      "fruits_list[-1] = coconut\n",
      "Is \"banana\" in fruits_list = True\n"
     ]
    }
   ],
   "source": [
    "fruits_list = [\"apple\", \"banana\", \"cherry\", \"date\", \"fig\", \"grape\", \"kiwi\", \"lemon\",\n",
    "              \"mango\", \"nectarine\", \"orange\", \"papaya\", \"quince\", \"raspberry\", \"strawberry\", \n",
    "              \"tangerine\", \"ugli\", \"vanilla\", \"watermelon\", \"xigua\", \"yam\", \"zucchini\",\n",
    "                \"apricot\", \"blueberry\", \"coconut\"]\n",
    "\n",
    "\n",
    "\n",
    "print('fruits_list =',fruits_list)\n",
    "print('len(fruits_list) =',len(fruits_list))\n",
    "print('fruits_list[9] =',fruits_list[9])\n",
    "print('fruits_list[-1] =',fruits_list[-1])\n",
    "print('Is \"banana\" in fruits_list =',\"banana\" in fruits_list)\n",
    "\n"
   ]
  },
  {
   "cell_type": "code",
   "execution_count": 15,
   "id": "d168b8d5",
   "metadata": {},
   "outputs": [
    {
     "name": "stdout",
     "output_type": "stream",
     "text": [
      "numb2_list = [100, 200, 300, 400, 500, 600, 700, 800, 900, 1000, 1100, 1200, 1300, 1400, 1500, 1600, 1700, 1800, 1900, 2000, 2100, 2200, 2300, 2400, 2500]\n",
      "len(numb2_list) = 25\n",
      "numb2_list[7] = 800\n",
      "numb2_list[-1] = 2500\n",
      "Sum of all elements in numb2_list = 32500\n",
      "Sum > = True\n"
     ]
    }
   ],
   "source": [
    "numb2_list = [100, 200, 300, 400, 500, 600, 700, 800, 900, 1000, 1100, 1200, \n",
    "              1300, 1400, 1500, 1600, 1700, 1800, 1900, 2000,\n",
    "                2100, 2200, 2300, 2400, 2500]\n",
    "\n",
    "\n",
    "print('numb2_list =',numb2_list)\n",
    "print('len(numb2_list) =',len(numb2_list))\n",
    "print('numb2_list[7] =',numb2_list[7])\n",
    "print('numb2_list[-1] =',numb2_list[-1])\n",
    "print('Sum of all elements in numb2_list =',sum(numb2_list))\n",
    "print('Sum > =',sum (numb2_list)> 1000)"
   ]
  },
  {
   "cell_type": "code",
   "execution_count": 17,
   "id": "5825e901",
   "metadata": {},
   "outputs": [
    {
     "name": "stdout",
     "output_type": "stream",
     "text": [
      "colours_list = ['red', 'blue', 'green', 'yellow', 'purple', 'orange', 'pink', 'brown', 'black', 'white', 'gray', 'cyan', 'magenta', 'lime', 'teal', 'navy', 'maroon', 'olive', 'silver', 'gold', 'beige', 'coral', 'indigo', 'ivory', 'khaki']\n",
      "len(colours_list) = 25\n",
      "colours_list[5] = orange\n",
      "colours_list[-1] = khaki\n",
      "Is \"purple\" in colours_list = True\n",
      "Is \"turquoise\" in colours_list = False\n",
      "The colour 'blue' is in the list.\n"
     ]
    }
   ],
   "source": [
    "colours_list = [\"red\", \"blue\", \"green\", \"yellow\", \"purple\", \"orange\", \"pink\",\n",
    "                 \"brown\", \"black\", \"white\", \"gray\", \"cyan\", \"magenta\", \"lime\", \"teal\", \n",
    "                 \"navy\", \"maroon\", \"olive\", \"silver\", \"gold\", \"beige\", \"coral\", \"indigo\", \"ivory\", \"khaki\"]\n",
    "\n",
    "\n",
    "\n",
    "print('colours_list =',colours_list)\n",
    "print('len(colours_list) =',len(colours_list))\n",
    "print('colours_list[5] =',colours_list[5])\n",
    "print('colours_list[-1] =',colours_list[-1])\n",
    "print('Is \"purple\" in colours_list =',\"purple\" in colours_list)\n",
    "print('Is \"turquoise\" in colours_list =',\"turquoise\" in colours_list)\n",
    "if \"blue\" in colours_list:\n",
    "    print(\"The colour 'blue' is in the list.\")\n",
    "else:\n",
    "    print(\"The colour 'blue' is not in the list.\")\n",
    "\n"
   ]
  },
  {
   "cell_type": "code",
   "execution_count": null,
   "id": "4a5d1627",
   "metadata": {},
   "outputs": [
    {
     "name": "stdout",
     "output_type": "stream",
     "text": [
      "num3_list = [100, 200, 300, 400, 500, 600, 700, 800, 900, 1000, 1100, 1200, 1300, 1400, 1500, 1600, 1700, 1800, 1900, 2000, 2100, 2200, 2300, 2400, 2500]\n",
      "len(num3_list) = 25\n",
      "num3_list[7] = 800\n",
      "num3_list[-1] = 2500\n",
      "Sum of all elements in num3_list = 32500\n",
      "Max = 2500\n"
     ]
    }
   ],
   "source": [
    "num3_list = [100, 200, 300, 400, 500, 600, 700, 800, 900, 1000,\n",
    "              1100, 1200, 1300, 1400, 1500, 1600, 1700, 1800, 1900,\n",
    "                2000, 2100, 2200, 2300, 2400, 2500]\n",
    "\n",
    "\n",
    "print('num3_list =',num3_list)\n",
    "print('len(num3_list) =',len(num3_list))\n",
    "print('num3_list[7] =',num3_list[7])\n",
    "print('num3_list[-1] =',num3_list[-1])\n",
    "print('Sum of all elements in num3_list =',sum(num3_list))\n",
    "print('Max =',max(num3_list))\n",
    "print('Min =',min(num3_list))\n",
    "print('Average =',sum(num3_list)/len(num3_list))\n"
   ]
  },
  {
   "cell_type": "code",
   "execution_count": 20,
   "id": "c598fbf2",
   "metadata": {},
   "outputs": [
    {
     "name": "stdout",
     "output_type": "stream",
     "text": [
      "letters_list = ['A', 'B', 'C', 'D', 'E', 'F', 'G', 'H', 'I', 'J', 'K', 'L', 'M', 'N', 'O', 'P', 'Q', 'R', 'S', 'T', 'U', 'V', 'W', 'X', 'Y']\n",
      "len(letters_list) = 25\n",
      "letters_list[15] = P\n",
      "letters_list[-1] = Y\n",
      "Is \"A\" in letters_list = True\n",
      "Is \"Z\" in letters_list = False\n",
      "The letter 'C' is in the list.\n"
     ]
    }
   ],
   "source": [
    "letters_list = [\"A\", \"B\", \"C\", \"D\", \"E\", \"F\", \"G\", \"H\", \"I\",\n",
    "                 \"J\", \"K\", \"L\", \"M\", \"N\", \"O\", \"P\", \"Q\", \"R\",\n",
    "                   \"S\", \"T\", \"U\", \"V\", \"W\", \"X\", \"Y\"]\n",
    "\n",
    "\n",
    "print('letters_list =',letters_list)\n",
    "print('len(letters_list) =',len(letters_list))\n",
    "print('letters_list[15] =',letters_list[15])\n",
    "print('letters_list[-1] =',letters_list[-1])\n",
    "print('Is \"A\" in letters_list =',\"A\" in letters_list)\n",
    "print('Is \"Z\" in letters_list =',\"Z\" in letters_list)\n",
    "if \"C\" in letters_list:\n",
    "    print(\"The letter 'C' is in the list.\")\n",
    "else:\n",
    "    print(\"The letter 'C' is not in the list.\")"
   ]
  },
  {
   "cell_type": "code",
   "execution_count": 22,
   "id": "b283e810",
   "metadata": {},
   "outputs": [
    {
     "name": "stdout",
     "output_type": "stream",
     "text": [
      "num4_list = [0, -10, -20, -30, -40, -50, -60, -70, -80, -90, -100, -110, -120, -130, -140, -150, -160, -170, -180, -190, -200, -210, -220, -230, -240]\n",
      "len(num4_list) = 25\n",
      "num4_list[10] = -100\n",
      "num4_list[-1] = -240\n",
      "Sum of all elements in num4_list = -3000\n",
      "Max = 0\n",
      "Min = -240\n",
      "Average = -120.0\n"
     ]
    }
   ],
   "source": [
    "num4_list = [0, -10, -20, -30, -40, -50, -60, -70, -80, \n",
    "             -90, -100, -110, -120, -130, -140, -150, -160,\n",
    "            -170, -180, -190, -200, -210, -220, -230, -240]\n",
    "\n",
    "\n",
    "\n",
    "\n",
    "print('num4_list =',num4_list)\n",
    "print('len(num4_list) =',len(num4_list))\n",
    "print('num4_list[10] =',num4_list[10])\n",
    "print('num4_list[-1] =',num4_list[-1])\n",
    "print('Sum of all elements in num4_list =',sum(num4_list))\n",
    "print('Max =',max(num4_list))\n",
    "print('Min =',min(num4_list))\n",
    "print('Average =',sum(num4_list)/len(num4_list))\n"
   ]
  },
  {
   "cell_type": "code",
   "execution_count": 23,
   "id": "0bc5ed7c",
   "metadata": {},
   "outputs": [
    {
     "name": "stdout",
     "output_type": "stream",
     "text": [
      "boolean_values = [True, False, True, False, True, False, True, False, True, False, True, False, True, False, True, False, True, False, True, False, True, False, True, False, True]\n",
      "len(boolean_values) = 25\n",
      "boolean_values[10] = True\n",
      "boolean_values[-1] = True\n",
      "Is True in boolean_values = True\n",
      "Is False in boolean_values = True\n",
      "The value 'False' is in the list.\n"
     ]
    }
   ],
   "source": [
    "boolean_values = [True, False, True, False, True, False, True, False,\n",
    "                   True, False, True, False, True, False, True, False, True,\n",
    "                     False, True, False, True, False, True, False, True]\n",
    "\n",
    "\n",
    "print('boolean_values =',boolean_values)\n",
    "print('len(boolean_values) =',len(boolean_values))\n",
    "print('boolean_values[10] =',boolean_values[10])\n",
    "print('boolean_values[-1] =',boolean_values[-1])\n",
    "print('Is True in boolean_values =',True in boolean_values)\n",
    "print('Is False in boolean_values =',False in boolean_values)\n",
    "if False in boolean_values:\n",
    "    print(\"The value 'False' is in the list.\")\n",
    "else:\n",
    "    print(\"The value 'False' is not in the list.\")"
   ]
  }
 ],
 "metadata": {
  "kernelspec": {
   "display_name": "Python 3",
   "language": "python",
   "name": "python3"
  },
  "language_info": {
   "codemirror_mode": {
    "name": "ipython",
    "version": 3
   },
   "file_extension": ".py",
   "mimetype": "text/x-python",
   "name": "python",
   "nbconvert_exporter": "python",
   "pygments_lexer": "ipython3",
   "version": "3.13.7"
  }
 },
 "nbformat": 4,
 "nbformat_minor": 5
}
